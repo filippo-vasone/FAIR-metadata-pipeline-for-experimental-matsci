{
  "nbformat": 4,
  "nbformat_minor": 0,
  "metadata": {
    "colab": {
      "provenance": []
    },
    "kernelspec": {
      "name": "python3",
      "display_name": "Python 3"
    },
    "language_info": {
      "name": "python"
    }
  },
  "cells": [
    {
      "cell_type": "markdown",
      "source": [
        "# Upload Metadata to eLabFTW with API\n",
        "**(author: Filippo Vasone)**\n",
        "\n",
        "\n",
        "In our lab, the experimental setup is controlled by a Python program, which performs the experiments and the measures. We want to use an electronic laboratory notebook (ELN) to improve the FAIRness of the metadata gathering process. This notebook is a step towards that direction.\n",
        "\n",
        "The chosen ELN is eLabFTW. Our aim is that the python program controlling the experiments automatically sends metadata to eLabFTW through APIs.\n",
        "\n",
        "In this notebook I will illustrate how to upload metadata from the laboratory Python program in eLabFTW using API keys.\n",
        "\n",
        "<u>Prerequisites</u>\n",
        "\n",
        "Before starting, please make sure you mint an API key from the eLabFTW user interface. To do so, go to: User Panel > API key. (For further info, see: https://doc.elabftw.net/api.html)\n",
        "\n",
        "Moreover, in this notebook I will assume that you have already created a template for your experiment (or measure) into eLabFTW from the user interface."
      ],
      "metadata": {
        "id": "lrSk6_eafhQ4"
      }
    },
    {
      "cell_type": "markdown",
      "source": [
        "## 1. Getting Started with API\n",
        "\n",
        "First of all, we need to configure the eLabFTW API.\n",
        "\n",
        "The documentation is here: https://doc.elabftw.net/api/.\n",
        "\n",
        "And here is the link to the Python library we will use to deal with the APIs: https://github.com/elabftw/elabapi-python.\n",
        "\n",
        "Part of the code below is taken from the examples scripts in github: https://github.com/elabftw/elabapi-python/blob/master/examples/00-read-items.py."
      ],
      "metadata": {
        "id": "PmIK79LWPF86"
      }
    },
    {
      "cell_type": "code",
      "execution_count": null,
      "metadata": {
        "id": "eItZX5waurVH"
      },
      "outputs": [],
      "source": [
        "# install the elab library\n",
        "!pip install elabapi-python\n",
        "\n",
        "# import necessary modules\n",
        "import time\n",
        "import json\n",
        "import elabapi_python\n",
        "\n",
        "# replace with your api key (obtained from User Panel > API Keys)\n",
        "my_api_key = '***' #(censored)\n",
        "\n",
        "# START CONFIGURATION\n",
        "\n",
        "configuration = elabapi_python.Configuration()\n",
        "configuration.api_key['api_key'] = my_api_key\n",
        "configuration.api_key_prefix['api_key'] = 'Authorization'\n",
        "configuration.host = 'https://***//api/v2' # here is the server in which we installed eLabFTW (censored)\n",
        "configuration.debug = False\n",
        "configuration.verify_ssl = False\n",
        "\n",
        "# create an instance of the API class\n",
        "api_client = elabapi_python.ApiClient(configuration)\n",
        "# fix issue with Authorization header not being properly set by the generated lib\n",
        "api_client.set_default_header(header_name='Authorization', header_value=my_api_key)\n",
        "\n",
        "# END CONFIGURATION"
      ]
    },
    {
      "cell_type": "markdown",
      "source": [
        "## 2. Getting an Experiment Template (GET)\n",
        "\n",
        "Now we need to GET the experiment template. Please note in particular the \"metadata\" section, as this is the part we will update with the information coming from the experimental setup.\n",
        "\n",
        "With the following code, we make a GET request to the server, asking for the experiment template with id = 77. This is the experiment template we have already created in eLabFTW for the SOT Experiment."
      ],
      "metadata": {
        "id": "T0sAQ80aPUuy"
      }
    },
    {
      "cell_type": "code",
      "source": [
        "# I make a GET request of the experiment template with id=77\n",
        "\n",
        "# import necessary modules\n",
        "from pprint import pprint\n",
        "\n",
        "# create the API instance to get the experiment template\n",
        "\n",
        "api_instance = elabapi_python.ExperimentsTemplatesApi(api_client)\n",
        "\n",
        "id = 77 # this is the id of the experiment template\n",
        "\n",
        "# we make the GET request of the template and print it\n",
        "api_response = api_instance.get_experiment_template(id)\n",
        "pprint(api_response)\n"
      ],
      "metadata": {
        "id": "JyIf44-HviON"
      },
      "execution_count": null,
      "outputs": []
    },
    {
      "cell_type": "markdown",
      "source": [
        "## 3. Gathering Metadata\n",
        "\n",
        "In this last section, we will actually upload the metadata onto eLabFTW. In other words, we will transform the metadata from information scattered along the Python script into a structured format using the APIs.\n",
        "\n",
        "To do so, we will break up our task into simpler steps.\n",
        "\n",
        "<u>Steps for the gathering of metadata</u>.\n",
        "\n",
        "1) Create an experiment with the desired template (POST request).\n",
        "\n",
        "2) We need the metadata to be written as variables in the code. (In this notebook, this step will be an assumption and we will just report a code snippet from the Python script controlling the experiment).\n",
        "\n",
        "3) We need to modify the experiment we created with the desired metadata. In this step, we will use the PATCH method."
      ],
      "metadata": {
        "id": "cCh5SYgK6BL7"
      }
    },
    {
      "cell_type": "markdown",
      "source": [
        "### 3.1 Create the experiment (POST)\n",
        "\n",
        "In our first step, we have to create an experiment with the desired template (in this case the id of the template is again = 77).\n",
        "\n",
        "In the HTTP protocol, this is the POST method. We will now perform it in the following code."
      ],
      "metadata": {
        "id": "RGz9h-UPWj21"
      }
    },
    {
      "cell_type": "code",
      "source": [
        "## create an experiment from the desired template\n",
        "\n",
        "# generate the EXPERIMENT instance\n",
        "api_exp_instance = elabapi_python.ExperimentsApi(api_client)\n",
        "# we will create the experiment with the template id=77: this information will be the input given to the method below, which creates the experiment\n",
        "body = {\"category_id\":77}\n",
        "\n",
        "# Create an experiment (POST)\n",
        "response_from_exp_creation = api_exp_instance.post_experiment_with_http_info(body=body) # create the experiment with template id = 77\n",
        "\n",
        "# the method 'post_experiment_with_http_info' not only creates the experiment but also gives us\n",
        "# information regarding the location and id of the experiment, which is crucial to\n",
        "# modify (PATCH) it in the following steps.\n",
        "\n",
        "# the following lines of code are useful to get the location and thus the id of the newly created experiment\n",
        "\n",
        "location = response_from_exp_creation[2].get(\"Location\") # getting the location from the response\n",
        "created_exp_id = int(location.split(\"/\").pop()) # # getting the id from the response\n",
        "print(f'The newly created experiment is here: {location}. Therefore it has the following id: {created_exp_id}')\n"
      ],
      "metadata": {
        "id": "IfQ7Yra26HQD"
      },
      "execution_count": null,
      "outputs": []
    },
    {
      "cell_type": "markdown",
      "source": [
        "### 3.2 Metadata from the python script\n",
        "\n",
        "In this step we just show the variables appearing in the python script that controls our experimental setup. We want the values of these variables to become the values of the keys of the experiment metadata.\n",
        "\n",
        "The following lines of code are copy pasted from the original script."
      ],
      "metadata": {
        "id": "kTEKfUVlZ6Ko"
      }
    },
    {
      "cell_type": "code",
      "source": [
        "## code snippet from the python program controlling the experimental setup\n",
        "\n",
        "from datetime import datetime\n",
        "\n",
        "n=datetime.now()\n",
        "\n",
        "run_code='run11'\n",
        "fielddirection='TRASV'\n",
        "samplename=f'SOTefficiency/KUEP09/D6.{fielddirection}'\n",
        "pulseheight=0.1  # +/- peak read current (mA)\n",
        "pkvsteps=[[-0.03, 0.005], [0.005, 0.005], [0.015, 0.005], [0.03, 0.005], [0, 0.005], [-0.015, 0.005],  [-0.03, 0.005]]"
      ],
      "metadata": {
        "id": "lQv81To53_4b"
      },
      "execution_count": null,
      "outputs": []
    },
    {
      "cell_type": "markdown",
      "source": [
        "#### Metadata quality\n",
        "We have to modify the values coming from the Python script so that they become a human-readable input for our metadata.\n"
      ],
      "metadata": {
        "id": "3-Zz7Fidwaqs"
      }
    },
    {
      "cell_type": "code",
      "source": [
        "# a) we have to transform the string regarding field direction into a more explicit string - for this purpose we create a function\n",
        "\n",
        "def fd_py_to_elab(fielddirection):\n",
        "  \"\"\"\n",
        "  Transform the string regarding field direction into a more explicit string\n",
        "  \"\"\"\n",
        "  if fielddirection == \"TRASV\":\n",
        "    return \"Transverse with regard to the current\"\n",
        "  elif fielddirection == \"LONG\":\n",
        "    return \"Longitudinal with regard to the current\"\n",
        "  else:\n",
        "    return \"Input not valid\""
      ],
      "metadata": {
        "id": "87BzSfx_waX6"
      },
      "execution_count": null,
      "outputs": []
    },
    {
      "cell_type": "code",
      "source": [
        "# b) we have to transform the string 'samplename' in order to get only the \"chip_name/pad_number\" structure as wanted from the eLabFTW template\n",
        "samplename_new = f'{samplename.split(\"/\")[1]}/{samplename.split(\"/\")[2].split(\".\")[0]}'\n",
        "samplename_new = samplename_new[4:]"
      ],
      "metadata": {
        "id": "AwCLNbnn1cfC"
      },
      "execution_count": null,
      "outputs": []
    },
    {
      "cell_type": "markdown",
      "source": [
        "### 3.3 Modify the created experiment (PATCH)\n",
        "\n",
        "In this final step we will modify the experiment we created with the metadata present in the python script.\n",
        "\n",
        "To upload the metadata onto eLabFTW, we will make a PATCH request to the host server. The PATCH request modifies the experiment with the desired metadata."
      ],
      "metadata": {
        "id": "MiPkCnFvbEuB"
      }
    },
    {
      "cell_type": "code",
      "source": [
        "## modify the experiment using APIs\n",
        "\n",
        "# what is the id of the experiment I created?\n",
        "print(created_exp_id)\n",
        "\n",
        "# I want to modify the metadata of the experiment. So first I have to look at how\n",
        "# the metadata of the \"empty\" experiment template (id = 77) looks like.\n",
        "\n",
        "# the following method will yield the metadata of the template as a JSON formatted string\n",
        "md = api_response.metadata\n",
        "\n",
        "# to manipulate the JSON string in python, I need to turn it into a dictionary\n",
        "import json\n",
        "dic_md = json.loads(md) # method that turns JSON formatted strings into a dictionary\n",
        "type(dic_md) # check if everything worked\n",
        "print(dic_md) # in this way I can see the structure of the dictionary to manipulate it\n",
        "\n",
        "# add the current values of the metadata to the dictionary\n",
        "\n",
        "dic_md['extra_fields']['Experiment_DateAndTime']['value'] = str(n) #makes it a string to avoid issues\n",
        "dic_md['extra_fields']['Experiment_RunNumber']['value'] = int(run_code[3:]) #I am only interested in the run number\n",
        "dic_md['extra_fields']['Experiment_MeasurementParameters_field_direction']['value'] = fd_py_to_elab(fielddirection)\n",
        "dic_md['extra_fields']['UserCase_Sample_sample_name']['value'] = samplename_new\n",
        "dic_md['extra_fields']['Experiment_MeasurementParameters_current_pulse']['value']= pulseheight\n",
        "dic_md['extra_fields']['Experiment_MeasurementParameters_magnetic_field_sequence']['value'] = str(pkvsteps) #makes it a string (otherwise the PATCH does not work)\n",
        "\n",
        "\n",
        "# check if the update of the dictionary has worked\n",
        "for key in dic_md['extra_fields']:\n",
        "  print(dic_md['extra_fields'][key]['value'])\n",
        "\n",
        "#turn the dictionary into a JSON formatted string again using dumps() method (in order to PATCH the experiment)\n",
        "\n",
        "new_md = json.dumps(dic_md)\n",
        "\n",
        "\n",
        "# now I insert the json formatted string into the experiment using the PATCH method\n",
        "\n",
        "api_exp_instance.patch_experiment_with_http_info(created_exp_id, body ={'title': 'My_SOT_experiment_from_API', 'metadata': new_md})"
      ],
      "metadata": {
        "id": "4E8HN-dq-9LT"
      },
      "execution_count": null,
      "outputs": []
    }
  ]
}